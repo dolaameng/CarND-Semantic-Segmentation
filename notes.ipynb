{
 "cells": [
  {
   "cell_type": "markdown",
   "metadata": {},
   "source": [
    "# Notes for FCN8\n",
    "\n",
    "## Some Pytorch Code for Quick Understanding\n",
    "- https://github.com/wkentaro/pytorch-fcn\n",
    "- https://github.com/bodokaiser/piwise"
   ]
  },
  {
   "cell_type": "code",
   "execution_count": 1,
   "metadata": {
    "collapsed": true
   },
   "outputs": [],
   "source": [
    "import tensorflow as tf\n",
    "from tensorflow.contrib import layers\n",
    "import numpy as np"
   ]
  },
  {
   "cell_type": "markdown",
   "metadata": {
    "collapsed": true
   },
   "source": [
    "## load vgg16"
   ]
  },
  {
   "cell_type": "code",
   "execution_count": 2,
   "metadata": {
    "collapsed": true
   },
   "outputs": [],
   "source": [
    "# create a session\n",
    "sess = tf.Session()"
   ]
  },
  {
   "cell_type": "code",
   "execution_count": 3,
   "metadata": {
    "collapsed": false
   },
   "outputs": [
    {
     "name": "stdout",
     "output_type": "stream",
     "text": [
      "INFO:tensorflow:Restoring parameters from b'data/vgg/variables/variables'\n"
     ]
    }
   ],
   "source": [
    "\n",
    "# load the frozen model\n",
    "tf.saved_model.loader.load(sess, [\"vgg16\"], \"data/vgg/\")\n",
    "# check the graph\n",
    "graph = sess.graph"
   ]
  },
  {
   "cell_type": "code",
   "execution_count": 4,
   "metadata": {
    "collapsed": false
   },
   "outputs": [],
   "source": [
    "# key variables\n",
    "vgg_names = [\"image_input\", \"keep_prob\", \"layer3_out\", \"layer4_out\", \"layer7_out\"]\n",
    "vgg16 = {name: graph.get_tensor_by_name(\"%s:0\" % name) for name in vgg_names}"
   ]
  },
  {
   "cell_type": "code",
   "execution_count": 5,
   "metadata": {
    "collapsed": false
   },
   "outputs": [
    {
     "name": "stdout",
     "output_type": "stream",
     "text": [
      "image_input (?, ?, ?, 3)\n",
      "keep_prob <unknown>\n",
      "layer3_out (?, ?, ?, 256)\n",
      "layer4_out (?, ?, ?, 512)\n",
      "layer7_out (?, ?, ?, 4096)\n"
     ]
    }
   ],
   "source": [
    "for name, tensor in vgg16.items():\n",
    "    print(name, tensor.get_shape())"
   ]
  },
  {
   "cell_type": "markdown",
   "metadata": {},
   "source": [
    "## build fcn8"
   ]
  },
  {
   "cell_type": "code",
   "execution_count": 6,
   "metadata": {
    "collapsed": false
   },
   "outputs": [],
   "source": [
    "def build_fcn8(graph, vgg16, num_classes):\n",
    "    model = vgg16.copy()\n",
    "    with graph.as_default():\n",
    "        weight_initializer = layers.variance_scaling_initializer()\n",
    "\n",
    "        # fcn layers\n",
    "        model[\"layer3_fcn\"] = tf.layers.conv2d(model[\"layer3_out\"], num_classes,\n",
    "                                               kernel_size=(1, 1), strides=(1, 1),\n",
    "                                               kernel_initializer=weight_initializer,\n",
    "                                               name=\"layer3_fcn\")\n",
    "        model[\"layer4_fcn\"] = tf.layers.conv2d(model[\"layer4_out\"], num_classes,\n",
    "                                               kernel_size=(1, 1), strides=(1, 1),\n",
    "                                               kernel_initializer=weight_initializer,\n",
    "                                               name=\"layer4_fcn\")\n",
    "        model[\"layer7_fcn\"] = tf.layers.conv2d(model[\"layer7_out\"], num_classes,\n",
    "                                               kernel_size=(1, 1), strides=(1, 1),\n",
    "                                               kernel_initializer=weight_initializer,\n",
    "                                               name=\"layer7_fcn\")\n",
    "        # upsampling and skipping - bottom up\n",
    "        model[\"layer7_up\"] = tf.layers.conv2d_transpose(model[\"layer7_fcn\"], num_classes,\n",
    "                                                        kernel_size=(4, 4), strides=(2, 2),\n",
    "                                                        kernel_initializer=weight_initializer,\n",
    "                                                        name=\"layer7_up\", padding=\"SAME\")\n",
    "        model[\"layer4_skip\"] = tf.add(model[\"layer4_fcn\"], model[\"layer7_up\"], name=\"layer4_skip\")\n",
    "        model[\"layer4_up\"] = tf.layers.conv2d_transpose(model[\"layer4_skip\"], num_classes,\n",
    "                                                        kernel_size=(4, 4), strides=(2, 2),\n",
    "                                                        kernel_initializer=weight_initializer,\n",
    "                                                        name=\"layer4_up\", padding=\"SAME\")\n",
    "        model[\"layer3_skip\"] = tf.add(model[\"layer3_fcn\"], model[\"layer4_up\"], name=\"layer3_skip\")\n",
    "        model[\"heatmap\"] = tf.layers.conv2d_transpose(model[\"layer3_skip\"], num_classes,\n",
    "                                                        kernel_size=(16, 16), strides=(8, 8),\n",
    "                                                        kernel_initializer=weight_initializer,\n",
    "                                                        name=\"layer3_up\", padding=\"SAME\")\n",
    "        return model"
   ]
  },
  {
   "cell_type": "code",
   "execution_count": 7,
   "metadata": {
    "collapsed": false
   },
   "outputs": [],
   "source": [
    "fcn8 = build_fcn8(graph, vgg16, 2)"
   ]
  },
  {
   "cell_type": "code",
   "execution_count": 8,
   "metadata": {
    "collapsed": false
   },
   "outputs": [
    {
     "name": "stdout",
     "output_type": "stream",
     "text": [
      "image_input (?, ?, ?, 3)\n",
      "keep_prob <unknown>\n",
      "layer3_out (?, ?, ?, 256)\n",
      "layer4_out (?, ?, ?, 512)\n",
      "layer7_out (?, ?, ?, 4096)\n",
      "layer3_fcn (?, ?, ?, 2)\n",
      "layer4_fcn (?, ?, ?, 2)\n",
      "layer7_fcn (?, ?, ?, 2)\n",
      "layer7_up (?, ?, ?, 2)\n",
      "layer4_skip (?, ?, ?, 2)\n",
      "layer4_up (?, ?, ?, 2)\n",
      "layer3_skip (?, ?, ?, 2)\n",
      "heatmap (?, ?, ?, 2)\n"
     ]
    }
   ],
   "source": [
    "for name, tensor in fcn8.items():\n",
    "    print(name, tensor.get_shape())"
   ]
  },
  {
   "cell_type": "markdown",
   "metadata": {},
   "source": [
    "## test fcn8"
   ]
  },
  {
   "cell_type": "code",
   "execution_count": 9,
   "metadata": {
    "collapsed": false
   },
   "outputs": [],
   "source": [
    "x = np.random.rand(16, 256, 256, 3)"
   ]
  },
  {
   "cell_type": "code",
   "execution_count": 10,
   "metadata": {
    "collapsed": false
   },
   "outputs": [],
   "source": [
    "sess.run(tf.global_variables_initializer())\n",
    "names = fcn8.keys()\n",
    "outputs = sess.run([fcn8[n] for n in names], feed_dict={\n",
    "                            fcn8[\"image_input\"]: x,\n",
    "                            fcn8[\"keep_prob\"]: 1})"
   ]
  },
  {
   "cell_type": "code",
   "execution_count": 11,
   "metadata": {
    "collapsed": false
   },
   "outputs": [
    {
     "name": "stdout",
     "output_type": "stream",
     "text": [
      "image_input (16, 256, 256, 3)\n",
      "keep_prob ()\n",
      "layer3_out (16, 32, 32, 256)\n",
      "layer4_out (16, 16, 16, 512)\n",
      "layer7_out (16, 8, 8, 4096)\n",
      "layer3_fcn (16, 32, 32, 2)\n",
      "layer4_fcn (16, 16, 16, 2)\n",
      "layer7_fcn (16, 8, 8, 2)\n",
      "layer7_up (16, 16, 16, 2)\n",
      "layer4_skip (16, 16, 16, 2)\n",
      "layer4_up (16, 32, 32, 2)\n",
      "layer3_skip (16, 32, 32, 2)\n",
      "heatmap (16, 256, 256, 2)\n"
     ]
    }
   ],
   "source": [
    "for name, output in zip(names, outputs):\n",
    "    print(name, output.shape)"
   ]
  },
  {
   "cell_type": "code",
   "execution_count": 12,
   "metadata": {
    "collapsed": true
   },
   "outputs": [],
   "source": [
    "sess.close()"
   ]
  },
  {
   "cell_type": "code",
   "execution_count": null,
   "metadata": {
    "collapsed": true
   },
   "outputs": [],
   "source": []
  }
 ],
 "metadata": {
  "kernelspec": {
   "display_name": "Python 3",
   "language": "python",
   "name": "python3"
  },
  "language_info": {
   "codemirror_mode": {
    "name": "ipython",
    "version": 3
   },
   "file_extension": ".py",
   "mimetype": "text/x-python",
   "name": "python",
   "nbconvert_exporter": "python",
   "pygments_lexer": "ipython3",
   "version": "3.6.0"
  }
 },
 "nbformat": 4,
 "nbformat_minor": 2
}
